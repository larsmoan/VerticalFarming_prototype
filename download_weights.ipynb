{
 "cells": [
  {
   "cell_type": "code",
   "execution_count": 1,
   "metadata": {},
   "outputs": [
    {
     "name": "stderr",
     "output_type": "stream",
     "text": [
      "Downloading...\n",
      "From: https://drive.google.com/uc?id=1XQuxAxMePqxgzjFSyxGuHqVFdED-1zP7\n",
      "To: /home/lars/Documents/VerticalFarming_prototype/ripeness_model.h5\n",
      "100%|██████████| 400M/400M [00:17<00:00, 23.2MB/s] \n"
     ]
    },
    {
     "data": {
      "text/plain": [
       "'ripeness_model.h5'"
      ]
     },
     "execution_count": 1,
     "metadata": {},
     "output_type": "execute_result"
    }
   ],
   "source": [
    "import gdown\n",
    "\n",
    "# Syntax\n",
    "# https://drive.google.com/uc?id=1 - \"the actual code\"\n",
    "\n",
    "test = \"https://drive.google.com/uc?id=1j_ineDY0hddGVNBRqe1KFAEe2NQzVhd9\"\n",
    "\n",
    "ripeness_model_h5 = \"https://drive.google.com/uc?id=1XQuxAxMePqxgzjFSyxGuHqVFdED-1zP7\"\n",
    "\n",
    "gdown.download(ripeness_model_h5, \"ripeness_model.h5\", quiet=False)"
   ]
  }
 ],
 "metadata": {
  "kernelspec": {
   "display_name": "Python 3.8.10 64-bit",
   "language": "python",
   "name": "python3"
  },
  "language_info": {
   "codemirror_mode": {
    "name": "ipython",
    "version": 3
   },
   "file_extension": ".py",
   "mimetype": "text/x-python",
   "name": "python",
   "nbconvert_exporter": "python",
   "pygments_lexer": "ipython3",
   "version": "3.10.6"
  },
  "orig_nbformat": 4,
  "vscode": {
   "interpreter": {
    "hash": "31f2aee4e71d21fbe5cf8b01ff0e069b9275f58929596ceb00d14d90e3e16cd6"
   }
  }
 },
 "nbformat": 4,
 "nbformat_minor": 2
}
